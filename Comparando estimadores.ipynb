{
 "cells": [
  {
   "cell_type": "code",
   "execution_count": 2,
   "metadata": {},
   "outputs": [],
   "source": [
    "import numpy as np\n",
    "import pandas as pd\n",
    "import matplotlib.pyplot as plt\n",
    "\n",
    "from scipy.optimize import minimize\n"
   ]
  },
  {
   "cell_type": "markdown",
   "metadata": {},
   "source": [
    "Conisdere o modelo de regressão\n",
    "\n",
    "\\begin{equation}\n",
    "y_t=X_t\\beta +u_t, \\quad u_t \\sim N(0, \\sigma^2)\n",
    "\\end{equation}\n",
    "\n"
   ]
  },
  {
   "cell_type": "code",
   "execution_count": null,
   "metadata": {},
   "outputs": [],
   "source": []
  },
  {
   "cell_type": "code",
   "execution_count": 68,
   "metadata": {},
   "outputs": [],
   "source": [
    "# Simulated data\n",
    "np.random.seed(1234)\n",
    "\n",
    "nobs = 1000\n",
    "\n",
    "x1 = np.random.normal(size=nobs)\n",
    "x2 = np.random.normal(size=nobs)\n",
    "x3 = np.random.normal(size=nobs)\n",
    "\n",
    "X = np.vstack([np.ones(nobs), x1, x2, x3]).T\n",
    "\n",
    "sigma2 = 2\n",
    "beta = np.array([5, -0.9, 0.5, 0.01])\n",
    "\n",
    "y = X.dot(beta) + np.random.normal(size=nobs, scale=sigma2)"
   ]
  },
  {
   "cell_type": "code",
   "execution_count": null,
   "metadata": {},
   "outputs": [],
   "source": []
  },
  {
   "cell_type": "code",
   "execution_count": 69,
   "metadata": {},
   "outputs": [
    {
     "data": {
      "text/plain": [
       "array([ 4.96077633, -0.94240586,  0.53071216,  0.0275337 ])"
      ]
     },
     "execution_count": 69,
     "metadata": {},
     "output_type": "execute_result"
    }
   ],
   "source": [
    "# OLS\n",
    "b_ols = np.linalg.solve(X.T@X, X.T@y)\n",
    "b_ols"
   ]
  },
  {
   "cell_type": "code",
   "execution_count": 70,
   "metadata": {},
   "outputs": [],
   "source": [
    "def neg_log_like_unconst(params, y, X):\n",
    "    nobs = len(y)\n",
    "    beta = params[1:]\n",
    "    \n",
    "    log_like = 0\n",
    "    for t in range(nobs):\n",
    "        uhat = y[t] - X[t,:]@beta\n",
    "        log_like += -0.5*(np.log(2*np.pi*params[0]) + (uhat**2)/params[0])\n",
    "    \n",
    "    return -log_like"
   ]
  },
  {
   "cell_type": "code",
   "execution_count": null,
   "metadata": {},
   "outputs": [],
   "source": []
  },
  {
   "cell_type": "code",
   "execution_count": 71,
   "metadata": {},
   "outputs": [],
   "source": [
    "res = minimize(fun=neg_log_like_unconst, \n",
    "               x0=np.array([np.var(y), np.mean(y), 0, 0, 0]),\n",
    "               args=(y,X), method=\"Nelder-Mead\")"
   ]
  },
  {
   "cell_type": "code",
   "execution_count": 72,
   "metadata": {},
   "outputs": [
    {
     "data": {
      "text/plain": [
       "array([ 4.96077669, -0.94240874,  0.53068865,  0.0275428 ])"
      ]
     },
     "execution_count": 72,
     "metadata": {},
     "output_type": "execute_result"
    }
   ],
   "source": [
    "b_mle = res.x[1:]\n",
    "b_mle"
   ]
  },
  {
   "cell_type": "code",
   "execution_count": null,
   "metadata": {},
   "outputs": [],
   "source": []
  },
  {
   "cell_type": "code",
   "execution_count": 73,
   "metadata": {},
   "outputs": [],
   "source": [
    "def neg_log_like_const(params, y, X):\n",
    "    nobs = len(y)\n",
    "    beta1 = params[1]\n",
    "    beta2 = params[2]\n",
    "    beta3 = np.exp(params[3]) # constrain\n",
    "    beta4 = params[4]\n",
    "    \n",
    "    beta = np.array([beta1, beta2, beta3, beta4])\n",
    "    \n",
    "    log_like = 0\n",
    "    for t in range(nobs):\n",
    "        uhat = y[t] - X[t,:]@beta\n",
    "        log_like += -0.5*(np.log(2*np.pi*params[0]) + (uhat**2)/params[0])\n",
    "    \n",
    "    return -log_like"
   ]
  },
  {
   "cell_type": "code",
   "execution_count": 74,
   "metadata": {},
   "outputs": [],
   "source": [
    "res = minimize(fun=neg_log_like_const, \n",
    "               x0=np.array([np.var(y), np.mean(y), 0, 0, 0]),\n",
    "               args=(y,X), method=\"Nelder-Mead\")"
   ]
  },
  {
   "cell_type": "code",
   "execution_count": 75,
   "metadata": {},
   "outputs": [
    {
     "data": {
      "text/plain": [
       "array([ 4.96077198, -0.9424218 , -0.63348733,  0.02752746])"
      ]
     },
     "execution_count": 75,
     "metadata": {},
     "output_type": "execute_result"
    }
   ],
   "source": [
    "res.x[1:]"
   ]
  },
  {
   "cell_type": "code",
   "execution_count": 76,
   "metadata": {},
   "outputs": [
    {
     "data": {
      "text/plain": [
       "0.5307377137236197"
      ]
     },
     "execution_count": 76,
     "metadata": {},
     "output_type": "execute_result"
    }
   ],
   "source": [
    "np.exp(res.x[3])"
   ]
  },
  {
   "cell_type": "code",
   "execution_count": null,
   "metadata": {},
   "outputs": [],
   "source": []
  },
  {
   "cell_type": "code",
   "execution_count": 61,
   "metadata": {},
   "outputs": [],
   "source": [
    "import pystan"
   ]
  },
  {
   "cell_type": "code",
   "execution_count": null,
   "metadata": {},
   "outputs": [],
   "source": []
  },
  {
   "cell_type": "code",
   "execution_count": 62,
   "metadata": {},
   "outputs": [],
   "source": [
    "model= '''data {\n",
    "    int<lower=0> N;   // number of data items\n",
    "    int<lower=0> K;   // number of predictors\n",
    "    matrix[N, K] x;   // predictor matrix\n",
    "    vector[N] y;      // outcome vector\n",
    "}\n",
    "parameters {\n",
    "    vector[K] beta;       // coefficients for predictors\n",
    "    real<lower=0> sigma;  // error scale\n",
    "}\n",
    "model {\n",
    "    for (i in 1:K){\n",
    "        if (i==3){\n",
    "            beta[i]~normal(0,100); // restringe esse parâmetro para ser positivo\n",
    "        }\n",
    "        else{\n",
    "            beta[i] ~ normal(0, 100); // normal with mean=0 and std=10\n",
    "        }\n",
    "    }\n",
    "    \n",
    "    y ~ normal(x * beta , sigma);  // likelihood\n",
    "}'''"
   ]
  },
  {
   "cell_type": "code",
   "execution_count": 63,
   "metadata": {},
   "outputs": [
    {
     "name": "stderr",
     "output_type": "stream",
     "text": [
      "INFO:pystan:COMPILING THE C++ CODE FOR MODEL anon_model_452bf1e73990ae3db0322706637bfddf NOW.\n"
     ]
    }
   ],
   "source": [
    "\n",
    "sm = pystan.StanModel(model_code=model) # compila o modelo"
   ]
  },
  {
   "cell_type": "code",
   "execution_count": 77,
   "metadata": {},
   "outputs": [],
   "source": [
    "data = {\"N\": len(y),\n",
    "        \"K\": X.shape[1],\n",
    "        \"y\": y,\n",
    "        \"x\": X}\n",
    "\n",
    "\n",
    "fit = sm.sampling(data=data, iter=1000, chains=2, seed=1, verbose=True) # roda as iterações"
   ]
  },
  {
   "cell_type": "code",
   "execution_count": 78,
   "metadata": {},
   "outputs": [
    {
     "data": {
      "text/plain": [
       "array([ 4.9601393 , -0.94221204,  0.53256816,  0.02811377])"
      ]
     },
     "execution_count": 78,
     "metadata": {},
     "output_type": "execute_result"
    }
   ],
   "source": [
    "b_bayes = np.mean(fit.extract()[\"beta\"],axis=0)\n",
    "b_bayes"
   ]
  },
  {
   "cell_type": "code",
   "execution_count": 79,
   "metadata": {},
   "outputs": [],
   "source": [
    "estimators=pd.DataFrame()\n",
    "\n",
    "estimators[\"OLS\"] = b_ols\n",
    "estimators[\"MLE\"] = b_mle\n",
    "estimators[\"Bayes\"]=b_bayes"
   ]
  },
  {
   "cell_type": "code",
   "execution_count": 80,
   "metadata": {},
   "outputs": [
    {
     "data": {
      "text/html": [
       "<div>\n",
       "<style scoped>\n",
       "    .dataframe tbody tr th:only-of-type {\n",
       "        vertical-align: middle;\n",
       "    }\n",
       "\n",
       "    .dataframe tbody tr th {\n",
       "        vertical-align: top;\n",
       "    }\n",
       "\n",
       "    .dataframe thead th {\n",
       "        text-align: right;\n",
       "    }\n",
       "</style>\n",
       "<table border=\"1\" class=\"dataframe\">\n",
       "  <thead>\n",
       "    <tr style=\"text-align: right;\">\n",
       "      <th></th>\n",
       "      <th>OLS</th>\n",
       "      <th>MLE</th>\n",
       "      <th>Bayes</th>\n",
       "    </tr>\n",
       "  </thead>\n",
       "  <tbody>\n",
       "    <tr>\n",
       "      <th>0</th>\n",
       "      <td>4.960776</td>\n",
       "      <td>4.960777</td>\n",
       "      <td>4.960139</td>\n",
       "    </tr>\n",
       "    <tr>\n",
       "      <th>1</th>\n",
       "      <td>-0.942406</td>\n",
       "      <td>-0.942409</td>\n",
       "      <td>-0.942212</td>\n",
       "    </tr>\n",
       "    <tr>\n",
       "      <th>2</th>\n",
       "      <td>0.530712</td>\n",
       "      <td>0.530689</td>\n",
       "      <td>0.532568</td>\n",
       "    </tr>\n",
       "    <tr>\n",
       "      <th>3</th>\n",
       "      <td>0.027534</td>\n",
       "      <td>0.027543</td>\n",
       "      <td>0.028114</td>\n",
       "    </tr>\n",
       "  </tbody>\n",
       "</table>\n",
       "</div>"
      ],
      "text/plain": [
       "        OLS       MLE     Bayes\n",
       "0  4.960776  4.960777  4.960139\n",
       "1 -0.942406 -0.942409 -0.942212\n",
       "2  0.530712  0.530689  0.532568\n",
       "3  0.027534  0.027543  0.028114"
      ]
     },
     "execution_count": 80,
     "metadata": {},
     "output_type": "execute_result"
    }
   ],
   "source": [
    "estimators"
   ]
  },
  {
   "cell_type": "code",
   "execution_count": null,
   "metadata": {},
   "outputs": [],
   "source": []
  },
  {
   "cell_type": "code",
   "execution_count": null,
   "metadata": {},
   "outputs": [],
   "source": []
  }
 ],
 "metadata": {
  "kernelspec": {
   "display_name": "Python 3",
   "language": "python",
   "name": "python3"
  },
  "language_info": {
   "codemirror_mode": {
    "name": "ipython",
    "version": 3
   },
   "file_extension": ".py",
   "mimetype": "text/x-python",
   "name": "python",
   "nbconvert_exporter": "python",
   "pygments_lexer": "ipython3",
   "version": "3.7.6"
  },
  "toc": {
   "base_numbering": 1,
   "nav_menu": {},
   "number_sections": true,
   "sideBar": true,
   "skip_h1_title": false,
   "title_cell": "Table of Contents",
   "title_sidebar": "Contents",
   "toc_cell": false,
   "toc_position": {},
   "toc_section_display": true,
   "toc_window_display": false
  }
 },
 "nbformat": 4,
 "nbformat_minor": 4
}
